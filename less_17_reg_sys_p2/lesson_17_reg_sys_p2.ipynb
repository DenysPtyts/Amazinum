{
 "cells": [
  {
   "cell_type": "code",
   "execution_count": 1,
   "id": "510e5251",
   "metadata": {},
   "outputs": [],
   "source": [
    "import pandas as pd\n",
    "import matplotlib.pyplot as plt"
   ]
  },
  {
   "cell_type": "code",
   "execution_count": 2,
   "id": "30826bdf",
   "metadata": {},
   "outputs": [
    {
     "data": {
      "text/html": [
       "<div>\n",
       "<style scoped>\n",
       "    .dataframe tbody tr th:only-of-type {\n",
       "        vertical-align: middle;\n",
       "    }\n",
       "\n",
       "    .dataframe tbody tr th {\n",
       "        vertical-align: top;\n",
       "    }\n",
       "\n",
       "    .dataframe thead th {\n",
       "        text-align: right;\n",
       "    }\n",
       "</style>\n",
       "<table border=\"1\" class=\"dataframe\">\n",
       "  <thead>\n",
       "    <tr style=\"text-align: right;\">\n",
       "      <th></th>\n",
       "      <th>Member_number</th>\n",
       "      <th>Date</th>\n",
       "      <th>itemDescription</th>\n",
       "    </tr>\n",
       "  </thead>\n",
       "  <tbody>\n",
       "    <tr>\n",
       "      <th>0</th>\n",
       "      <td>1808</td>\n",
       "      <td>21-07-2015</td>\n",
       "      <td>tropical fruit</td>\n",
       "    </tr>\n",
       "    <tr>\n",
       "      <th>1</th>\n",
       "      <td>2552</td>\n",
       "      <td>05-01-2015</td>\n",
       "      <td>whole milk</td>\n",
       "    </tr>\n",
       "    <tr>\n",
       "      <th>2</th>\n",
       "      <td>2300</td>\n",
       "      <td>19-09-2015</td>\n",
       "      <td>pip fruit</td>\n",
       "    </tr>\n",
       "    <tr>\n",
       "      <th>3</th>\n",
       "      <td>1187</td>\n",
       "      <td>12-12-2015</td>\n",
       "      <td>other vegetables</td>\n",
       "    </tr>\n",
       "    <tr>\n",
       "      <th>4</th>\n",
       "      <td>3037</td>\n",
       "      <td>01-02-2015</td>\n",
       "      <td>whole milk</td>\n",
       "    </tr>\n",
       "  </tbody>\n",
       "</table>\n",
       "</div>"
      ],
      "text/plain": [
       "   Member_number        Date   itemDescription\n",
       "0           1808  21-07-2015    tropical fruit\n",
       "1           2552  05-01-2015        whole milk\n",
       "2           2300  19-09-2015         pip fruit\n",
       "3           1187  12-12-2015  other vegetables\n",
       "4           3037  01-02-2015        whole milk"
      ]
     },
     "execution_count": 2,
     "metadata": {},
     "output_type": "execute_result"
    }
   ],
   "source": [
    "df = pd.read_csv('Groceries_dataset.csv')\n",
    "df.head()"
   ]
  },
  {
   "cell_type": "code",
   "execution_count": 3,
   "id": "07f73458",
   "metadata": {},
   "outputs": [
    {
     "data": {
      "text/plain": [
       "38765"
      ]
     },
     "execution_count": 3,
     "metadata": {},
     "output_type": "execute_result"
    }
   ],
   "source": [
    "len(df)"
   ]
  },
  {
   "cell_type": "code",
   "execution_count": 4,
   "id": "2193aa50",
   "metadata": {},
   "outputs": [
    {
     "data": {
      "text/plain": [
       "(array([1.008e+04, 2.698e+03, 1.390e+03, 3.440e+02, 1.750e+02, 8.000e+01,\n",
       "        1.450e+02, 5.000e+01, 0.000e+00, 1.000e+00]),\n",
       " array([ 2. ,  2.9,  3.8,  4.7,  5.6,  6.5,  7.4,  8.3,  9.2, 10.1, 11. ]),\n",
       " <BarContainer object of 10 artists>)"
      ]
     },
     "execution_count": 4,
     "metadata": {},
     "output_type": "execute_result"
    },
    {
     "data": {
      "image/png": "[encoded data removed]",
      "text/plain": [
       "<Figure size 640x480 with 1 Axes>"
      ]
     },
     "metadata": {},
     "output_type": "display_data"
    }
   ],
   "source": [
    "dist = [len(g) for k, g in df.groupby(['Member_number', 'Date'])]\n",
    "plt.hist(dist)"
   ]
  },
  {
   "cell_type": "code",
   "execution_count": 5,
   "id": "29ef80fb",
   "metadata": {},
   "outputs": [],
   "source": [
    "import numpy as np\n",
    "from apyori import apriori"
   ]
  },
  {
   "cell_type": "code",
   "execution_count": 6,
   "id": "fd23fc8e",
   "metadata": {},
   "outputs": [],
   "source": [
    "df = df.fillna(0)"
   ]
  },
  {
   "cell_type": "code",
   "execution_count": 7,
   "id": "875da3f7",
   "metadata": {},
   "outputs": [
    {
     "data": {
      "text/plain": [
       "[[1808, '21-07-2015', 'tropical fruit'],\n",
       " [2552, '05-01-2015', 'whole milk'],\n",
       " [2300, '19-09-2015', 'pip fruit'],\n",
       " [1187, '12-12-2015', 'other vegetables'],\n",
       " [3037, '01-02-2015', 'whole milk']]"
      ]
     },
     "execution_count": 7,
     "metadata": {},
     "output_type": "execute_result"
    }
   ],
   "source": [
    "trans = df.values.tolist()\n",
    "trans[:5]"
   ]
  },
  {
   "cell_type": "code",
   "execution_count": 8,
   "id": "2ce14249",
   "metadata": {},
   "outputs": [],
   "source": [
    "grouped = df.groupby(['Member_number', 'Date'])['itemDescription'].apply(list)\n",
    "transactions = grouped.tolist()"
   ]
  },
  {
   "cell_type": "code",
   "execution_count": 18,
   "id": "43247137",
   "metadata": {},
   "outputs": [],
   "source": [
    "rules = list(apriori(transactions, \n",
    "                     min_support = 0.001, \n",
    "                     min_confidence = 0.1, \n",
    "                     min_lift = 1, \n",
    "                     min_length=1))"
   ]
  },
  {
   "cell_type": "code",
   "execution_count": 20,
   "id": "29fa29fb",
   "metadata": {},
   "outputs": [
    {
     "name": "stdout",
     "output_type": "stream",
     "text": [
      "rule.items= ['other vegetables', 'berries']\n",
      "rule.support= 0.0026732607097507185\n",
      "\titems_base= ['berries']\n",
      "\tlifted_item = ['other vegetables']\n",
      "\tlift= 1.0048992447977005\n",
      "\tconfidence (i.e. cond prob ['other vegetables'] if ['berries'])= 0.12269938650306748\n",
      "\n",
      "rule.items= ['beverages', 'soda']\n",
      "rule.support= 0.001871282496825503\n",
      "\titems_base= ['beverages']\n",
      "\tlifted_item = ['soda']\n",
      "\tlift= 1.1626778855760054\n",
      "\tconfidence (i.e. cond prob ['soda'] if ['beverages'])= 0.11290322580645162\n",
      "\n",
      "rule.items= ['yogurt', 'chewing gum']\n",
      "rule.support= 0.001403461872619127\n",
      "\titems_base= ['chewing gum']\n",
      "\tlifted_item = ['yogurt']\n",
      "\tlift= 1.358508430609598\n",
      "\tconfidence (i.e. cond prob ['yogurt'] if ['chewing gum'])= 0.11666666666666667\n",
      "\n",
      "rule.items= ['rolls/buns', 'chocolate']\n",
      "rule.support= 0.002806923745238254\n",
      "\titems_base= ['chocolate']\n",
      "\tlifted_item = ['rolls/buns']\n",
      "\tlift= 1.081591909651348\n",
      "\tconfidence (i.e. cond prob ['rolls/buns'] if ['chocolate'])= 0.11898016997167138\n",
      "\n",
      "rule.items= ['detergent', 'rolls/buns']\n",
      "rule.support= 0.0010024727661565194\n",
      "\titems_base= ['detergent']\n",
      "\tlifted_item = ['rolls/buns']\n",
      "\tlift= 1.0570374975274803\n",
      "\tconfidence (i.e. cond prob ['rolls/buns'] if ['detergent'])= 0.11627906976744186\n",
      "\n",
      "rule.items= ['detergent', 'whole milk']\n",
      "rule.support= 0.001403461872619127\n",
      "\titems_base= ['detergent']\n",
      "\tlifted_item = ['whole milk']\n",
      "\tlift= 1.0308240411774547\n",
      "\tconfidence (i.e. cond prob ['whole milk'] if ['detergent'])= 0.1627906976744186\n",
      "\n",
      "rule.items= ['detergent', 'yogurt']\n",
      "rule.support= 0.0010693042839002875\n",
      "\titems_base= ['detergent']\n",
      "\tlifted_item = ['yogurt']\n",
      "\tlift= 1.4442614544686756\n",
      "\tconfidence (i.e. cond prob ['yogurt'] if ['detergent'])= 0.12403100775193798\n",
      "\n",
      "rule.items= ['flour', 'tropical fruit']\n",
      "rule.support= 0.0010693042839002875\n",
      "\titems_base= ['flour']\n",
      "\tlifted_item = ['tropical fruit']\n",
      "\tlift= 1.6171408500175626\n",
      "\tconfidence (i.e. cond prob ['tropical fruit'] if ['flour'])= 0.10958904109589042\n",
      "\n",
      "rule.items= ['frankfurter', 'other vegetables']\n",
      "rule.support= 0.005146026866270133\n",
      "\titems_base= ['frankfurter']\n",
      "\tlifted_item = ['other vegetables']\n",
      "\tlift= 1.1161495948191098\n",
      "\tconfidence (i.e. cond prob ['other vegetables'] if ['frankfurter'])= 0.13628318584070798\n",
      "\n",
      "rule.items= ['frozen meals', 'other vegetables']\n",
      "rule.support= 0.002138608567800575\n",
      "\titems_base= ['frozen meals']\n",
      "\tlifted_item = ['other vegetables']\n",
      "\tlift= 1.0441343547539457\n",
      "\tconfidence (i.e. cond prob ['other vegetables'] if ['frozen meals'])= 0.12749003984063748\n",
      "\n"
     ]
    }
   ],
   "source": [
    "count = 0\n",
    "for rule in rules:\n",
    "    items = list(rule.items)\n",
    "    support = rule.support\n",
    "    for stat in rule.ordered_statistics:\n",
    "        if stat.items_base and stat.items_add:\n",
    "            print(f\"rule.items= {items}\")\n",
    "            print(f\"rule.support= {support}\")\n",
    "            print(f\"\\titems_base= {list(stat.items_base)}\")\n",
    "            print(f\"\\tlifted_item = {list(stat.items_add)}\")\n",
    "            print(f\"\\tlift= {stat.lift}\")\n",
    "            print(f\"\\tconfidence (i.e. cond prob {list(stat.items_add)} if {list(stat.items_base)})= {stat.confidence}\\n\")\n",
    "            count += 1\n",
    "            if count >= 10:\n",
    "                break\n",
    "    if count >= 10:\n",
    "        break"
   ]
  }
 ],
 "metadata": {
  "kernelspec": {
   "display_name": "venv",
   "language": "python",
   "name": "python3"
  },
  "language_info": {
   "codemirror_mode": {
    "name": "ipython",
    "version": 3
   },
   "file_extension": ".py",
   "mimetype": "text/x-python",
   "name": "python",
   "nbconvert_exporter": "python",
   "pygments_lexer": "ipython3",
   "version": "3.12.9"
  }
 },
 "nbformat": 4,
 "nbformat_minor": 5
}
