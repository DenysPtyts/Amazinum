{
 "cells": [
  {
   "cell_type": "code",
   "execution_count": 1,
   "metadata": {},
   "outputs": [],
   "source": [
    "import numpy as np\n",
    "from sklearn.model_selection import train_test_split"
   ]
  },
  {
   "cell_type": "code",
   "execution_count": 2,
   "metadata": {},
   "outputs": [],
   "source": [
    "from sklearn.datasets import load_diabetes"
   ]
  },
  {
   "cell_type": "code",
   "execution_count": 3,
   "metadata": {},
   "outputs": [
    {
     "name": "stdout",
     "output_type": "stream",
     "text": [
      "Selecting all features\n"
     ]
    },
    {
     "data": {
      "text/plain": [
       "(array([[-0.06363517, -0.04464164, -0.03315126, ..., -0.00259226,\n",
       "         -0.02251653, -0.05906719],\n",
       "        [ 0.01264814, -0.04464164, -0.02560657, ..., -0.0763945 ,\n",
       "         -0.07213275,  0.01134862],\n",
       "        [ 0.03807591,  0.05068012,  0.00888341, ..., -0.00259226,\n",
       "         -0.01811369,  0.00720652],\n",
       "        ...,\n",
       "        [-0.02730979, -0.04464164, -0.06332999, ..., -0.0763945 ,\n",
       "         -0.0561531 , -0.06735141],\n",
       "        [ 0.03081083,  0.05068012,  0.05954058, ..., -0.00259226,\n",
       "         -0.02479543, -0.01764613],\n",
       "        [ 0.04897352,  0.05068012,  0.05846277, ...,  0.03430886,\n",
       "          0.02200407,  0.02791705]], shape=(331, 10)),\n",
       " array([[ 0.03444337, -0.04464164, -0.00728377, ..., -0.03949338,\n",
       "         -0.02139531,  0.00720652],\n",
       "        [-0.00914709, -0.04464164,  0.03798434, ...,  0.0158583 ,\n",
       "         -0.00514219,  0.02791705],\n",
       "        [ 0.00538306,  0.05068012, -0.00189471, ..., -0.00259226,\n",
       "          0.03839393, -0.01350402],\n",
       "        ...,\n",
       "        [-0.05637009,  0.05068012, -0.0105172 , ...,  0.03430886,\n",
       "          0.02060939,  0.0569118 ],\n",
       "        [-0.00551455,  0.05068012, -0.00836158, ..., -0.00259226,\n",
       "          0.08059005,  0.00720652],\n",
       "        [ 0.05260606, -0.04464164, -0.02129532, ..., -0.03949338,\n",
       "         -0.00061174, -0.05492509]], shape=(111, 10)),\n",
       " array([214.,  98., 127., 233., 168., 268., 103.,  72., 141., 265., 275.,\n",
       "        200., 178., 138., 118., 196.,  89., 146., 118., 281., 252.,  47.,\n",
       "        306.,  61., 140.,  39., 232., 182., 153., 280., 122., 202., 219.,\n",
       "         61., 225., 143.,  66., 230.,  71., 145.,  85.,  90.,  47., 114.,\n",
       "        262.,  55.,  77., 236., 175., 241.,  73., 126., 124.,  65.,  49.,\n",
       "        155., 202., 151., 104.,  90.,  68., 111., 113., 263., 170., 259.,\n",
       "        160., 242., 261., 137., 242., 163., 172.,  39., 107.,  54.,  70.,\n",
       "         96., 270., 252., 135.,  48., 109., 178., 248., 185., 346., 198.,\n",
       "         74., 317., 104.,  63., 341., 158., 183.,  88., 143., 192.,  90.,\n",
       "        111., 206., 121.,  50., 182., 277., 132., 275.,  99., 131., 253.,\n",
       "         72., 292., 104.,  71., 174., 127., 164.,  92.,  31.,  42.,  97.,\n",
       "         64., 281.,  84.,  52., 144.,  69., 184., 245., 136.,  51., 101.,\n",
       "         91.,  97., 200., 129., 108., 259.,  97., 243., 181.,  92.,  60.,\n",
       "         52., 245., 141., 164., 308.,  69.,  88., 122., 279.,  51., 310.,\n",
       "        118., 180.,  55.,  53.,  85., 191., 104., 295., 166., 110.,  48.,\n",
       "        135., 182., 137.,  53., 270., 274.,  71.,  63.,  65.,  42., 264.,\n",
       "        248., 262., 332.,  96., 128.,  59., 151.,  99., 283., 281., 190.,\n",
       "        246.,  83., 129., 215., 201., 101., 163., 129., 217., 154., 116.,\n",
       "         72.,  91., 222., 179.,  70.,  51., 235., 178.,  53., 197.,  71.,\n",
       "         94.,  78., 177., 272.,  60., 200., 219., 210.,  72., 220., 131.,\n",
       "        187., 248.,  90., 113., 283., 142.,  57., 150.,  79.,  94., 237.,\n",
       "        150., 296., 152., 272., 220.,  93.,  49.,  72.,  64., 139.,  55.,\n",
       "        168.,  67.,  58.,  68., 173., 144., 208., 134.,  80., 198., 178.,\n",
       "         88., 257.,  44., 195.,  94., 197., 150., 186.,  65., 281., 311.,\n",
       "        128.,  74., 200.,  67.,  85., 125.,  63., 113., 139., 144.,  72.,\n",
       "         69., 142., 100., 214.,  52., 101., 168., 321., 206., 214., 273.,\n",
       "        258., 202.,  78., 173., 152., 120., 220., 237., 242., 246., 124.,\n",
       "         97., 200.,  66.,  40., 109.,  81., 174., 142., 128.,  86., 209.,\n",
       "         53.,  52., 233.,  63., 116., 102.,  87.,  48., 302., 142.,  43.,\n",
       "        292.,  88.,  49.,  84., 109., 259., 243.,  81., 115.,  37., 263.,\n",
       "        275.]),\n",
       " array([155., 167., 185., 109.,  65.,  77., 277., 244., 148., 102., 200.,\n",
       "        162.,  59., 147., 216., 144.,  85., 131., 196., 212.,  60., 252.,\n",
       "        121.,  78., 275., 336., 190., 221., 103., 156., 235., 102., 115.,\n",
       "        276., 140.,  83.,  95., 151., 141., 128., 217., 170., 110., 191.,\n",
       "         91., 288.,  64., 181., 258.,  71.,  42., 297.,  89., 160., 150.,\n",
       "        225., 265.,  59., 123., 258., 229., 202.,  55.,  77.,  96.,  83.,\n",
       "        230., 233.,  96., 220., 303., 268., 180., 170., 171., 178.,  87.,\n",
       "        310.,  84., 257., 232., 111.,  91., 293., 185.,  77.,  93., 265.,\n",
       "         68., 132., 158.,  75., 189., 172., 134., 107.,  45.,  84., 310.,\n",
       "        249., 199., 138.,  90.,  75., 198.,  59.,  25.,  95., 179., 161.,\n",
       "        131.]))"
      ]
     },
     "execution_count": 3,
     "metadata": {},
     "output_type": "execute_result"
    }
   ],
   "source": [
    "def get_X_y(features = None, verbose = False):\n",
    "    X, y = load_diabetes(return_X_y = True)\n",
    "\n",
    "    if features is None:\n",
    "        print('Selecting all features')\n",
    "    elif type(features) == int or (type(features) == list and len(features)==1):\n",
    "        print('Selecting one feature: {}'.format(features))\n",
    "        X= X[:,features].reshape(-1,1)\n",
    "    elif type(features) == list: \n",
    "        print('Selecting features list: {}'.format(features))\n",
    "        X= X[:,features]\n",
    "    else: \n",
    "        print('wrong format of parameter \"features\"')\n",
    "        return\n",
    "\n",
    "\n",
    "    X_train, X_test, y_train, y_test = train_test_split(X, y, random_state=2021)\n",
    "    \n",
    "    if verbose:\n",
    "        print('X_train.shape= ',X_train.shape)\n",
    "        print('y_train.shape= ',y_train.shape)\n",
    "        print('X_train [:5] = \\n{}'.format(X_train[:5]))\n",
    "        print('y_train [:5] = \\n{}'.format(y_train[:5]))\n",
    "    return X_train, X_test, y_train, y_test\n",
    "\n",
    "get_X_y()"
   ]
  },
  {
   "cell_type": "code",
   "execution_count": 4,
   "metadata": {},
   "outputs": [
    {
     "name": "stdout",
     "output_type": "stream",
     "text": [
      "Selecting all features\n",
      "X_train.shape=  (331, 10)\n",
      "y_train.shape=  (331,)\n",
      "X_train [:5] = \n",
      "[[-0.06363517 -0.04464164 -0.03315126 -0.03321323  0.00118295  0.02405115\n",
      "  -0.02499266 -0.00259226 -0.02251653 -0.05906719]\n",
      " [ 0.01264814 -0.04464164 -0.02560657 -0.04009893 -0.03046397 -0.04515466\n",
      "   0.0780932  -0.0763945  -0.07213275  0.01134862]\n",
      " [ 0.03807591  0.05068012  0.00888341  0.04252949 -0.04284755 -0.02104223\n",
      "  -0.03971921 -0.00259226 -0.01811369  0.00720652]\n",
      " [-0.07816532  0.05068012  0.07786339  0.05285804  0.07823631  0.0644473\n",
      "   0.02655027 -0.00259226  0.04067283 -0.00936191]\n",
      " [-0.07453279 -0.04464164 -0.0105172  -0.00567042 -0.06623874 -0.0570543\n",
      "  -0.00290283 -0.03949338 -0.04257085 -0.0010777 ]]\n",
      "y_train [:5] = \n",
      "[214.  98. 127. 233. 168.]\n"
     ]
    }
   ],
   "source": [
    "X_train, X_test, y_train, y_test = get_X_y(verbose= True)"
   ]
  },
  {
   "cell_type": "code",
   "execution_count": 5,
   "metadata": {},
   "outputs": [
    {
     "name": "stdout",
     "output_type": "stream",
     "text": [
      "Linear Regression\n",
      "R2 train score = 0.5073693366380001\n",
      "R2 test score = 0.5281729599217632\n",
      "b: 148.9929089824379, \n",
      "w= [ -19.6849459  -240.17712443  557.92071086  251.49875073 -500.35528341\n",
      "  275.55002947  -11.62872458  154.0055582   651.15320811   77.51418657]\n"
     ]
    }
   ],
   "source": [
    "from sklearn.linear_model import LinearRegression\n",
    "\n",
    "lin_reg = LinearRegression()\n",
    "lin_reg.fit(X_train, y_train)\n",
    "regressor = lin_reg\n",
    "print('Linear Regression')\n",
    "print('R2 train score =', regressor.score(X_train, y_train))\n",
    "print('R2 test score =', regressor.score(X_test, y_test))\n",
    "print('b: {}, \\nw= {}'.format(regressor.intercept_, regressor.coef_)) "
   ]
  },
  {
   "cell_type": "code",
   "execution_count": 6,
   "metadata": {},
   "outputs": [
    {
     "name": "stdout",
     "output_type": "stream",
     "text": [
      "Ridge Redression\n",
      "R2 train score =  0.42274917339301743\n",
      "R2 test score =  0.4342973225973644\n",
      "b: 148.99989270370446, \n",
      "w = [  31.07148535  -67.8120157   284.12144626  158.3077359    25.34329106\n",
      "  -14.63150099 -130.28719404  116.41304414  239.50188481  108.52469397]\n"
     ]
    }
   ],
   "source": [
    "from sklearn.linear_model import Ridge\n",
    "\n",
    "ridge_reg = Ridge()\n",
    "ridge_reg.fit(X_train, y_train)\n",
    "regressor = ridge_reg\n",
    "print('Ridge Redression')\n",
    "print('R2 train score = ', regressor.score(X_train, y_train))\n",
    "print('R2 test score = ', regressor.score(X_test, y_test))\n",
    "print('b: {}, \\nw = {}'.format(regressor.intercept_, regressor.coef_))"
   ]
  },
  {
   "cell_type": "code",
   "execution_count": 7,
   "metadata": {},
   "outputs": [
    {
     "name": "stdout",
     "output_type": "stream",
     "text": [
      "Lasso\n",
      "R2 train score = 0.36601908968194896\n",
      "R2 test score = 0.33920924807921515\n",
      "b: 149.48529539341314, \n",
      "w = [  0.          -0.         379.30812187   0.           0.\n",
      "   0.          -0.           0.         317.42349078   0.        ]\n"
     ]
    }
   ],
   "source": [
    "from sklearn.linear_model import Lasso\n",
    "\n",
    "lasso_reg = Lasso()\n",
    "lasso_reg.fit(X_train,y_train)\n",
    "regressor = lasso_reg\n",
    "print ('Lasso')\n",
    "print ('R2 train score =', regressor.score(X_train, y_train))\n",
    "print ('R2 test score =', regressor.score(X_test, y_test))\n",
    "print ('b: {}, \\nw = {}'.format(regressor.intercept_, regressor.coef_)) "
   ]
  },
  {
   "cell_type": "code",
   "execution_count": 8,
   "metadata": {},
   "outputs": [],
   "source": [
    "from sklearn.preprocessing import PolynomialFeatures"
   ]
  },
  {
   "cell_type": "code",
   "execution_count": 9,
   "metadata": {},
   "outputs": [
    {
     "name": "stdout",
     "output_type": "stream",
     "text": [
      "Selecting all features\n",
      "X train shape =  (111, 10)\n",
      "X train poly shape =  (331, 65)\n",
      "Polynomial + Linear Regression\n",
      "R2 train score = 0.6207810962295996\n",
      "R2 test score = 0.3472243986719058\n",
      "b: 55.74564209006542, \n",
      "w  = [ 1.06137498e+02 -2.77244219e+02  5.11354358e+02  2.51478306e+02\n",
      " -1.82518302e+04  1.59323845e+04  6.66445690e+03  1.74014774e+02\n",
      "  6.57536398e+03  9.66610282e+01  2.78325334e+03  3.85281468e+03\n",
      " -1.53395915e+02  9.33380694e+02  7.84255464e+03 -1.10762461e+04\n",
      " -1.11174456e+03  2.01277652e+03  1.35040875e+03 -1.10327017e+03\n",
      " -1.67413427e+00  2.29828166e+03  2.55277891e+02 -6.62033960e+02\n",
      "  1.81130613e+03  1.37538779e+02 -6.93403727e+03  1.68439720e+03\n",
      "  1.60179356e+03  1.15224299e+03  3.13930733e+03 -8.23706391e+02\n",
      "  6.06446052e+02  9.05587243e+02 -1.25957240e+03  3.92326702e+02\n",
      "  7.84474860e+02 -3.72762355e+02  1.50641940e+04 -1.23251806e+04\n",
      " -3.94541792e+03  3.05725415e+03 -5.21151753e+03 -2.22762962e+03\n",
      "  8.83280542e+04 -1.14624080e+05 -7.24321258e+04 -3.63921143e+04\n",
      " -2.64089121e+04 -4.87133850e+03  3.72219511e+04  4.48634626e+04\n",
      "  2.00114668e+04  1.20913439e+04  9.24913877e+02  1.31372359e+04\n",
      "  9.59115876e+03  1.12090903e+04  1.07482695e+04  3.89815589e+03\n",
      "  9.14000032e+03  8.77867792e+03  2.96364287e+04  3.13815886e+03\n",
      "  1.70557446e+03]\n"
     ]
    }
   ],
   "source": [
    "X_train, X_test, y_train, y_test = get_X_y()\n",
    "\n",
    "poly = PolynomialFeatures(degree = 2, include_bias = False)\n",
    "X_train_poly = poly.fit_transform(X_train)\n",
    "X_test_poly = poly.transform(X_test)\n",
    "print('X train shape = ', X_test.shape)\n",
    "print('X train poly shape = ', X_train_poly.shape)\n",
    "\n",
    "poly_lin_reg = LinearRegression().fit(X_train_poly, y_train)\n",
    "regressor = poly_lin_reg\n",
    "print('Polynomial + Linear Regression')\n",
    "print('R2 train score =', regressor.score(X_train_poly, y_train))\n",
    "print('R2 test score =', regressor.score(X_test_poly, y_test))\n",
    "print('b: {}, \\nw  = {}'.format(regressor.intercept_, regressor.coef_)) "
   ]
  },
  {
   "cell_type": "code",
   "execution_count": 10,
   "metadata": {},
   "outputs": [
    {
     "name": "stdout",
     "output_type": "stream",
     "text": [
      "Selecting all features\n",
      "X_train.shape =  (331, 10)\n",
      "X_train_poly.shape =  (331, 65)\n",
      "Polynomial + Normalization + Linear Regression\n",
      "R2 train score = 0.6207810962295992\n",
      "R2 test score = 0.34722439867189936\n",
      "b: 149.9879154078546, \n",
      "w = [ 4.97209636e+00 -6.60344284e+00  2.47052564e+01  1.18567337e+01\n",
      " -8.69285293e+02  7.62552719e+02  3.03949992e+02  8.27990802e+00\n",
      "  3.15136754e+02  4.67197571e+00  7.05699774e+00  8.45951234e+00\n",
      " -3.46047214e-01  1.82462614e+00  1.78065099e+01 -2.48564562e+01\n",
      " -2.20612038e+00  4.34202737e+00  3.00624056e+00 -2.25394841e+00\n",
      " -6.60344284e+00  5.25181416e+00  5.54568548e-01 -1.50418826e+00\n",
      "  4.07990873e+00  2.69182131e-01 -1.46629636e+01  3.80570111e+00\n",
      "  3.60014548e+00  4.05767524e+00  7.65968725e+00 -1.86034057e+00\n",
      "  1.34692110e+00  1.89955976e+00 -2.87494869e+00  8.48179697e-01\n",
      "  1.80720085e+00 -9.57457310e-01  3.16808467e+01 -2.54562864e+01\n",
      " -8.44481390e+00  6.46083198e+00 -1.12581646e+01 -5.35634696e+00\n",
      "  2.96705759e+02 -3.96321205e+02 -1.54554648e+02 -1.00834748e+02\n",
      " -5.86964036e+01 -1.07941957e+01  1.41190162e+02  9.20061362e+01\n",
      "  6.31135135e+01  2.63397588e+01  2.14560704e+00  4.04923586e+01\n",
      "  2.23243655e+01  2.45313779e+01  2.33806262e+01  1.40572720e+01\n",
      "  2.27701825e+01  2.25418758e+01  9.46415177e+01  7.80957629e+00\n",
      "  5.97810051e+00]\n"
     ]
    }
   ],
   "source": [
    "from sklearn.preprocessing import StandardScaler\n",
    "\n",
    "X_train, X_test, y_train, y_test = get_X_y(verbose = False)\n",
    "\n",
    "poly = PolynomialFeatures(degree = 2, include_bias = False)\n",
    "X_train_poly = poly.fit_transform(X_train)\n",
    "X_test_poly = poly.transform(X_test)\n",
    "print('X_train.shape = ', X_train.shape)\n",
    "print('X_train_poly.shape = ', X_train_poly.shape)\n",
    "\n",
    "scaler= StandardScaler()\n",
    "X_train_poly_scaled = scaler.fit_transform(X_train_poly)\n",
    "X_test_poly_scaled = scaler.transform(X_test_poly)\n",
    "\n",
    "poly_lin_reg = LinearRegression().fit (X_train_poly_scaled, y_train)\n",
    "regressor = poly_lin_reg\n",
    "print('Polynomial + Normalization + Linear Regression')\n",
    "print('R2 train score =', regressor.score(X_train_poly_scaled, y_train))\n",
    "print('R2 test score =', regressor.score(X_test_poly_scaled, y_test))\n",
    "print('b: {}, \\nw = {}'.format(regressor.intercept_, regressor.coef_))"
   ]
  },
  {
   "cell_type": "code",
   "execution_count": 11,
   "metadata": {},
   "outputs": [
    {
     "name": "stdout",
     "output_type": "stream",
     "text": [
      "Selecting all features\n",
      "X_train.shape =  (331, 10)\n",
      "X_train_poly.shape =  (331, 65)\n",
      "Polynomial + Ridge\n",
      "R2 train score = 2.1608413246609892e-05\n",
      "R2 test score = -0.013150086416298556\n"
     ]
    }
   ],
   "source": [
    "X_train, X_test, y_train, y_test = get_X_y(verbose = False)\n",
    "\n",
    "poly = PolynomialFeatures(degree = 2, include_bias = False)\n",
    "X_train_poly = poly.fit_transform(X_train)\n",
    "X_test_poly = poly.transform(X_test)\n",
    "print('X_train.shape = ', X_train.shape)\n",
    "print('X_train_poly.shape = ', X_train_poly.shape)\n",
    "\n",
    "poly_ridge = Ridge(alpha = 1e5, max_iter = 100000).fit (X_train_poly,y_train) # Increased max-iter and alpha\n",
    "regressor = poly_ridge\n",
    "print ('Polynomial + Ridge')\n",
    "print ('R2 train score =', regressor.score(X_train_poly, y_train))\n",
    "print ('R2 test score =', regressor.score(X_test_poly, y_test))\n",
    "w= regressor.coef_"
   ]
  },
  {
   "cell_type": "code",
   "execution_count": 12,
   "metadata": {},
   "outputs": [
    {
     "name": "stdout",
     "output_type": "stream",
     "text": [
      "X_train.shape =  (331, 10)\n",
      "X_train_poly.shape =  (331, 285)\n",
      "Polynomial + Ridge\n",
      "R2 train score = 4.322475710694107e-11\n",
      "R2 test score = -0.01317309394302435\n"
     ]
    }
   ],
   "source": [
    "poly = PolynomialFeatures(degree = 3, include_bias = False)\n",
    "X_train_poly = poly.fit_transform(X_train)\n",
    "X_test_poly = poly.transform(X_test)\n",
    "print('X_train.shape = ', X_train.shape)\n",
    "print('X_train_poly.shape = ', X_train_poly.shape)\n",
    "\n",
    "poly_ridge = Ridge(alpha = 5e10, max_iter = 100000).fit (X_train_poly,y_train) # Increased max-iter and alpha\n",
    "regressor = poly_ridge\n",
    "print ('Polynomial + Ridge')\n",
    "print ('R2 train score =', regressor.score(X_train_poly, y_train))\n",
    "print ('R2 test score =', regressor.score(X_test_poly, y_test))"
   ]
  },
  {
   "cell_type": "code",
   "execution_count": 13,
   "metadata": {},
   "outputs": [
    {
     "name": "stdout",
     "output_type": "stream",
     "text": [
      "Selecting all features\n",
      "X_train.shape =  (331, 10)\n",
      "X_train_poly.shape =  (331, 65)\n",
      "Polynomial + Lasso\n",
      "R2 train score =  0.36601908968194896\n",
      "R2 test score =  0.33920924807921515\n",
      "b: 149.48529539341314, \n",
      "w = [  0.          -0.         379.30812187   0.           0.\n",
      "   0.          -0.           0.         317.42349078   0.\n",
      "   0.           0.           0.           0.          -0.\n",
      "  -0.          -0.           0.           0.           0.\n",
      "  -0.           0.           0.           0.          -0.\n",
      "   0.          -0.           0.           0.           0.\n",
      "   0.          -0.          -0.          -0.           0.\n",
      "   0.           0.           0.           0.          -0.\n",
      "   0.           0.           0.           0.           0.\n",
      "  -0.          -0.          -0.           0.           0.\n",
      "  -0.           0.          -0.          -0.           0.\n",
      "  -0.          -0.           0.          -0.           0.\n",
      "   0.           0.           0.           0.           0.        ]\n",
      "\n",
      "Relevant w = [379.30812187 317.42349078]\n"
     ]
    }
   ],
   "source": [
    "X_train, X_test, y_train, y_test = get_X_y(verbose = False)\n",
    "\n",
    "poly = PolynomialFeatures(degree = 2, include_bias = False)\n",
    "X_train_poly = poly.fit_transform(X_train)\n",
    "X_test_poly = poly.transform(X_test)\n",
    "print('X_train.shape = ', X_train.shape)\n",
    "print('X_train_poly.shape = ', X_train_poly.shape)\n",
    "\n",
    "poly_lasso = Lasso(max_iter = 100000).fit(X_train_poly, y_train)\n",
    "regressor = poly_lasso\n",
    "print('Polynomial + Lasso')\n",
    "print('R2 train score = ', regressor.score(X_train_poly, y_train))\n",
    "print('R2 test score = ', regressor.score(X_test_poly, y_test))\n",
    "w = regressor.coef_\n",
    "print('b: {}, \\nw = {}'.format(regressor.intercept_, w))\n",
    "w_relevant = w[np.abs(w) > 1e2]\n",
    "print('\\nRelevant w = {}'.format(w_relevant))"
   ]
  },
  {
   "cell_type": "code",
   "execution_count": 14,
   "metadata": {},
   "outputs": [
    {
     "name": "stdout",
     "output_type": "stream",
     "text": [
      "X_train.shape =  (331, 10)\n",
      "X_train_poly.shape =  (331, 285)\n",
      "Polynomial + Lasso\n",
      "R2 train score =  0.0\n",
      "R2 test score =  -0.01317309398904798\n",
      "\n",
      "Relevant w = []\n"
     ]
    }
   ],
   "source": [
    "poly = PolynomialFeatures(degree = 3, include_bias = False)\n",
    "X_train_poly = poly.fit_transform(X_train)\n",
    "X_test_poly = poly.transform(X_test)\n",
    "print('X_train.shape = ', X_train.shape)\n",
    "print('X_train_poly.shape = ', X_train_poly.shape)\n",
    "\n",
    "poly_lasso = Lasso(alpha = 10, max_iter = 100000).fit(X_train_poly, y_train)\n",
    "regressor = poly_lasso\n",
    "print('Polynomial + Lasso')\n",
    "print('R2 train score = ', regressor.score(X_train_poly, y_train))\n",
    "print('R2 test score = ', regressor.score(X_test_poly, y_test))\n",
    "w = regressor.coef_\n",
    "# print('b: {}, \\nw = {}'.format(regressor.intercept_, w))\n",
    "w_relevant = w[np.abs(w) > 1e2]\n",
    "print('\\nRelevant w = {}'.format(w_relevant))"
   ]
  },
  {
   "cell_type": "code",
   "execution_count": null,
   "metadata": {},
   "outputs": [],
   "source": []
  }
 ],
 "metadata": {
  "kernelspec": {
   "display_name": "venv",
   "language": "python",
   "name": "python3"
  },
  "language_info": {
   "codemirror_mode": {
    "name": "ipython",
    "version": 3
   },
   "file_extension": ".py",
   "mimetype": "text/x-python",
   "name": "python",
   "nbconvert_exporter": "python",
   "pygments_lexer": "ipython3",
   "version": "3.12.9"
  }
 },
 "nbformat": 4,
 "nbformat_minor": 2
}
