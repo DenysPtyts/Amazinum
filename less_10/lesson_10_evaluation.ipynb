{
 "cells": [
  {
   "cell_type": "code",
   "execution_count": 1,
   "id": "fecb0eb5",
   "metadata": {},
   "outputs": [],
   "source": [
    "import matplotlib.pyplot as plt\n",
    "import pandas as pd\n",
    "import numpy as np\n",
    "from sklearn.model_selection import train_test_split\n",
    "from sklearn.datasets import load_iris"
   ]
  },
  {
   "cell_type": "code",
   "execution_count": 2,
   "id": "634c7052",
   "metadata": {},
   "outputs": [],
   "source": [
    "%matplotlib notebook"
   ]
  },
  {
   "cell_type": "code",
   "execution_count": 3,
   "id": "020081a6",
   "metadata": {},
   "outputs": [],
   "source": [
    "%matplotlib inline"
   ]
  },
  {
   "cell_type": "markdown",
   "id": "7b9adee0",
   "metadata": {},
   "source": [
    "# Wine Dataset"
   ]
  },
  {
   "cell_type": "code",
   "execution_count": 4,
   "id": "7956a15f",
   "metadata": {},
   "outputs": [
    {
     "name": "stdout",
     "output_type": "stream",
     "text": [
      "X.shape=  (150, 4)\n",
      "y.shape=  (150,)\n",
      "X[1]=\n",
      "[4.9 3.  1.4 0.2]\n"
     ]
    }
   ],
   "source": [
    "iris = load_iris()\n",
    "X, y, labels = iris.data, iris.target, iris.target_names\n",
    "print ('X.shape= ', X.shape)\n",
    "print ('y.shape= ', y.shape)\n",
    "print ('X[1]=\\n{}'.format(X[1,:])) "
   ]
  },
  {
   "cell_type": "code",
   "execution_count": 5,
   "id": "55b1d032",
   "metadata": {},
   "outputs": [
    {
     "data": {
      "text/plain": [
       "{np.str_('setosa'): np.int64(50),\n",
       " np.str_('versicolor'): np.int64(50),\n",
       " np.str_('virginica'): np.int64(50)}"
      ]
     },
     "execution_count": 5,
     "metadata": {},
     "output_type": "execute_result"
    }
   ],
   "source": [
    "{label: count for label, count in zip(labels, np.bincount(y))}"
   ]
  },
  {
   "cell_type": "markdown",
   "id": "b72b126d",
   "metadata": {},
   "source": [
    "# Make it imbalanced"
   ]
  },
  {
   "cell_type": "code",
   "execution_count": 6,
   "id": "9a2299e8",
   "metadata": {},
   "outputs": [
    {
     "data": {
      "text/plain": [
       "{np.str_('setosa'): np.int64(100), np.str_('versicolor'): np.int64(50)}"
      ]
     },
     "execution_count": 6,
     "metadata": {},
     "output_type": "execute_result"
    }
   ],
   "source": [
    "y_binary_imbalanced = y.copy()\n",
    "y_binary_imbalanced[y_binary_imbalanced != 1] = 0\n",
    "{label: count for label, count in zip(labels, np.bincount(y_binary_imbalanced))}"
   ]
  },
  {
   "cell_type": "code",
   "execution_count": 7,
   "id": "60ce7f55",
   "metadata": {},
   "outputs": [
    {
     "name": "stdout",
     "output_type": "stream",
     "text": [
      "X_train.shape=  (112, 4)\n",
      "X_test.shape=  (38, 4)\n",
      "y_train.shape=  (112,)\n",
      "y_test.shape=  (38,)\n"
     ]
    }
   ],
   "source": [
    "X_train, X_test, y_train, y_test = train_test_split(X, y_binary_imbalanced, random_state = 0)\n",
    "print ('X_train.shape= ',X_train.shape)\n",
    "print ('X_test.shape= ',X_test.shape)\n",
    "print ('y_train.shape= ',y_train.shape)\n",
    "print ('y_test.shape= ',y_test.shape)"
   ]
  },
  {
   "cell_type": "code",
   "execution_count": 8,
   "id": "e0434d46",
   "metadata": {},
   "outputs": [
    {
     "name": "stdout",
     "output_type": "stream",
     "text": [
      "Train Set: {np.str_('setosa'): np.int64(78), np.str_('versicolor'): np.int64(34)}\n",
      "Test Set: {np.str_('setosa'): np.int64(22), np.str_('versicolor'): np.int64(16)}\n"
     ]
    }
   ],
   "source": [
    "print ('Train Set:',{label: count for label, count in zip(labels, np.bincount(y_train))})\n",
    "print ('Test Set:',{label: count for label, count in zip(labels, np.bincount(y_test))})"
   ]
  },
  {
   "cell_type": "code",
   "execution_count": 9,
   "id": "38829743",
   "metadata": {},
   "outputs": [
    {
     "name": "stdout",
     "output_type": "stream",
     "text": [
      "train ratio:  0.4358974358974359\n",
      "test ratio:  0.7272727272727273\n"
     ]
    }
   ],
   "source": [
    "train_labels= {label: count for label, count in zip(labels, np.bincount(y_train))}\n",
    "print ('train ratio: ',list(train_labels.values())[1]/list(train_labels.values())[0])\n",
    "test_labels= {label: count for label, count in zip(labels, np.bincount(y_test))}\n",
    "print ('test ratio: ', list(test_labels.values())[1]/list(test_labels.values())[0])"
   ]
  },
  {
   "cell_type": "markdown",
   "id": "9ba3f732",
   "metadata": {},
   "source": [
    "# Accuracy of SVC"
   ]
  },
  {
   "cell_type": "code",
   "execution_count": 10,
   "id": "c62cc2db",
   "metadata": {},
   "outputs": [
    {
     "name": "stdout",
     "output_type": "stream",
     "text": [
      "train accuracy= 69.643%\n",
      "test accuracy= 57.895%\n"
     ]
    }
   ],
   "source": [
    "from sklearn.svm import SVC\n",
    "\n",
    "clf = SVC(kernel='rbf', C=0.06, probability=True).fit(X_train, y_train)\n",
    "\n",
    "print(\"train accuracy= {:.3%}\".format(clf.score (X_train, y_train)))\n",
    "print(\"test accuracy= {:.3%}\".format(clf.score (X_test, y_test)))"
   ]
  },
  {
   "cell_type": "markdown",
   "id": "d3afff6b",
   "metadata": {},
   "source": [
    "# Accuracy of Dummy classifier"
   ]
  },
  {
   "cell_type": "code",
   "execution_count": 14,
   "id": "d42ae243",
   "metadata": {},
   "outputs": [
    {
     "name": "stdout",
     "output_type": "stream",
     "text": [
      "Check it predicts all zeros:\n"
     ]
    },
    {
     "data": {
      "text/plain": [
       "array([0, 0, 0, 0, 0, 0, 0, 0, 0, 0, 0, 0, 0, 0, 0, 0, 0, 0, 0, 0, 0, 0,\n",
       "       0, 0, 0, 0, 0, 0, 0, 0])"
      ]
     },
     "execution_count": 14,
     "metadata": {},
     "output_type": "execute_result"
    }
   ],
   "source": [
    "from sklearn.dummy import  DummyClassifier\n",
    "clf_dummy_majority= DummyClassifier(strategy='most_frequent').fit(X_train, y_train)\n",
    "print ('Check it predicts all zeros:')\n",
    "clf_dummy_majority.predict(X_test)[:30]"
   ]
  },
  {
   "cell_type": "code",
   "execution_count": 15,
   "id": "892a6fbf",
   "metadata": {},
   "outputs": [
    {
     "name": "stdout",
     "output_type": "stream",
     "text": [
      "train accuracy= 69.643%\n",
      "test accuracy= 57.895%\n"
     ]
    }
   ],
   "source": [
    "print(\"train accuracy= {:.3%}\".format(clf_dummy_majority.score(X_train, y_train)))\n",
    "print(\"test accuracy= {:.3%}\".format(clf_dummy_majority.score(X_test, y_test)))\n",
    "clf_dummy_majority= clf"
   ]
  },
  {
   "cell_type": "code",
   "execution_count": 16,
   "id": "657945e3",
   "metadata": {},
   "outputs": [
    {
     "name": "stdout",
     "output_type": "stream",
     "text": [
      "train accuracy= 95.536%\n",
      "test accuracy= 94.737%\n"
     ]
    }
   ],
   "source": [
    "clf = SVC().fit(X_train, y_train)\n",
    "print(\"train accuracy= {:.3%}\".format(clf.score(X_train, y_train)))\n",
    "print(\"test accuracy= {:.3%}\".format(clf.score(X_test, y_test)))\n",
    "clf_svc = clf"
   ]
  },
  {
   "cell_type": "code",
   "execution_count": 17,
   "id": "ad378eec",
   "metadata": {},
   "outputs": [
    {
     "name": "stdout",
     "output_type": "stream",
     "text": [
      "train accuracy= 75.893%\n",
      "test accuracy= 63.158%\n"
     ]
    }
   ],
   "source": [
    "clf = SVC(kernel='linear', C=1).fit(X_train, y_train) \n",
    "print(\"train accuracy= {:.3%}\".format(clf.score(X_train, y_train)))\n",
    "print(\"test accuracy= {:.3%}\".format(clf.score(X_test, y_test)))\n",
    "clf_svc = clf"
   ]
  },
  {
   "cell_type": "code",
   "execution_count": 18,
   "id": "f92b9265",
   "metadata": {},
   "outputs": [
    {
     "name": "stdout",
     "output_type": "stream",
     "text": [
      "train accuracy = 69.643%\n",
      "test accuracy  = 57.895%\n"
     ]
    }
   ],
   "source": [
    "print(\"train accuracy = {:.3%}\".format(clf_dummy_majority.score(X_train, y_train)))\n",
    "print(\"test accuracy  = {:.3%}\".format(clf_dummy_majority.score(X_test, y_test)))"
   ]
  },
  {
   "cell_type": "markdown",
   "id": "5cd63f67",
   "metadata": {},
   "source": [
    "# Confusion Matrix"
   ]
  },
  {
   "cell_type": "code",
   "execution_count": 19,
   "id": "e3b70d7e",
   "metadata": {},
   "outputs": [
    {
     "data": {
      "text/plain": [
       "array([[22,  0],\n",
       "       [ 0, 16]])"
      ]
     },
     "execution_count": 19,
     "metadata": {},
     "output_type": "execute_result"
    }
   ],
   "source": [
    "from sklearn.metrics import confusion_matrix\n",
    "\n",
    "confusion_matrix(y_test, y_test)"
   ]
  },
  {
   "cell_type": "markdown",
   "id": "bb0e2e81",
   "metadata": {},
   "source": [
    "# Dummy most majority"
   ]
  },
  {
   "cell_type": "code",
   "execution_count": 20,
   "id": "6cf18d8f",
   "metadata": {},
   "outputs": [
    {
     "data": {
      "text/plain": [
       "array([[22,  0],\n",
       "       [16,  0]])"
      ]
     },
     "execution_count": 20,
     "metadata": {},
     "output_type": "execute_result"
    }
   ],
   "source": [
    "y_dummy_majority= clf_dummy_majority.predict(X_test)\n",
    "confusion = confusion_matrix(y_test, y_dummy_majority)\n",
    "confusion"
   ]
  },
  {
   "cell_type": "markdown",
   "id": "fd9160fc",
   "metadata": {},
   "source": [
    "# Dummy stratified"
   ]
  },
  {
   "cell_type": "code",
   "execution_count": 22,
   "id": "81796ee4",
   "metadata": {},
   "outputs": [
    {
     "data": {
      "text/plain": [
       "array([[18,  4],\n",
       "       [11,  5]])"
      ]
     },
     "execution_count": 22,
     "metadata": {},
     "output_type": "execute_result"
    }
   ],
   "source": [
    "clf = DummyClassifier (strategy='stratified', random_state=2020)\n",
    "clf.fit(X_train,y_train)\n",
    "y_dummy_stratified = clf.predict(X_test)\n",
    "confusion_matrix(y_test, y_dummy_stratified )"
   ]
  },
  {
   "cell_type": "markdown",
   "id": "d7084a52",
   "metadata": {},
   "source": [
    "# SVC"
   ]
  },
  {
   "cell_type": "code",
   "execution_count": 23,
   "id": "1e8f4701",
   "metadata": {},
   "outputs": [
    {
     "data": {
      "text/plain": [
       "array([[21,  1],\n",
       "       [13,  3]])"
      ]
     },
     "execution_count": 23,
     "metadata": {},
     "output_type": "execute_result"
    }
   ],
   "source": [
    "y_svc= clf_svc.predict(X_test)\n",
    "confusion_matrix(y_test, y_svc)"
   ]
  },
  {
   "cell_type": "markdown",
   "id": "906ea234",
   "metadata": {},
   "source": [
    "# Logistic Regression"
   ]
  },
  {
   "cell_type": "code",
   "execution_count": 25,
   "id": "ba5d8976",
   "metadata": {},
   "outputs": [
    {
     "data": {
      "text/plain": [
       "array([[22,  0],\n",
       "       [16,  0]])"
      ]
     },
     "execution_count": 25,
     "metadata": {},
     "output_type": "execute_result"
    }
   ],
   "source": [
    "from sklearn.linear_model import LogisticRegression\n",
    "clf= LogisticRegression(C=0.001).fit (X_train, y_train)\n",
    "y_lr= clf.predict(X_test)\n",
    "confusion_matrix(y_test, y_lr)"
   ]
  },
  {
   "cell_type": "markdown",
   "id": "f6de3ff3",
   "metadata": {},
   "source": [
    "# Decision Tree"
   ]
  },
  {
   "cell_type": "code",
   "execution_count": 26,
   "id": "673e1a66",
   "metadata": {},
   "outputs": [
    {
     "data": {
      "text/plain": [
       "array([[22,  0],\n",
       "       [ 1, 15]])"
      ]
     },
     "execution_count": 26,
     "metadata": {},
     "output_type": "execute_result"
    }
   ],
   "source": [
    "from sklearn.tree import DecisionTreeClassifier\n",
    "clf = DecisionTreeClassifier(max_depth=3).fit(X_train, y_train)\n",
    "y_dt = clf.predict(X_test)\n",
    "confusion_matrix(y_test, y_dt)"
   ]
  },
  {
   "cell_type": "code",
   "execution_count": 27,
   "id": "72b7d87b",
   "metadata": {},
   "outputs": [],
   "source": [
    "def plot_data_logistic_regression(X,y,legend_loc= None, title= None):\n",
    "    positive_indices = (y == 1)\n",
    "    negative_indices = (y == 0)\n",
    "    import matplotlib as mpl\n",
    "    colors_for_points = ['grey', 'orange'] # neg/pos\n",
    "\n",
    "    plt.scatter(X[negative_indices][:,0], X[negative_indices][:,1], s=40, c=colors_for_points [0], edgecolor = 'black', label='negative', alpha = 0.7)\n",
    "    plt.scatter(X[positive_indices][:,0], X[positive_indices][:,1], s=40, c=colors_for_points [1], edgecolor = 'black',label='positive', alpha = 0.7)\n",
    "    plt.title(title)\n",
    "    plt.legend(loc= legend_loc)\n",
    "    \n",
    "def draw_linear_decision_boundaries_multiclass(clf,X):\n",
    "    colors=  ['green','grey', 'orange', 'brown']\n",
    "    x_line = np.linspace(X[:,0].min(),X[:,0].max(), 100)\n",
    "    for w, b, color in zip(clf.coef_, clf.intercept_, colors):\n",
    "        y_line = -(x_line  * w[0] + b) / w[1]\n",
    "        ind = (X[:,0].min()< x_line) & (x_line <X[:,0].max()) & (X[:,1].min()< y_line) & (y_line <X[:,1].max() )\n",
    "        plt.plot(x_line[ind] , y_line[ind], '-', c=color, alpha=.8)\n",
    "\n",
    "    \n",
    "def plot_decision_boundary_universal(clf, X_train, y_train, X_test=None, y_test= None, title=None, precision=0.1,plot_symbol_size = 50, ax= None,  is_extended=True, labels= None, features =None, is_to_show_train= True):\n",
    "    from matplotlib.colors import  ListedColormap\n",
    "    features_number= X_train.shape[1]\n",
    "    colors_for_areas= colors_for_points =  np.array(['grey', 'orange', 'green', 'brown'][:features_number])\n",
    "    cmap_light = ListedColormap(colors_for_areas)\n",
    "\n",
    "    mesh_step_size = precision\n",
    "    if X_test is None or y_test is None:\n",
    "        show_test= False\n",
    "        X= X_train\n",
    "    else:\n",
    "        show_test= True\n",
    "        X= np.concatenate([X_train,X_test], axis=0)\n",
    "    x1_min, x1_max = X[:, 0].min() - .1, X[:, 0].max() + 0.1\n",
    "    x2_min, x2_max = X[:, 1].min() - .1, X[:, 1].max() + 0.1\n",
    "    xx1, xx2 = np.meshgrid(np.arange(x1_min, x1_max, mesh_step_size),\n",
    "                         np.arange(x2_min, x2_max, mesh_step_size))\n",
    "    target_samples_grid= (np.c_[xx1.ravel(), xx2.ravel()])\n",
    "    if precision<0.05:\n",
    "        print ('Calling to predict for all grid values (precision of drawing = {},\\n you may configure to speed up e.g. precision=0.05)'.format(precision))\n",
    "    Z = clf.predict(target_samples_grid)\n",
    "\n",
    "    Z = Z.reshape(xx1.shape)\n",
    "\n",
    "    if ax:\n",
    "        plt.sca(ax)\n",
    "\n",
    "    plt.pcolormesh(xx1, xx2,Z, cmap = cmap_light, alpha=0.2)\n",
    "\n",
    "    if is_to_show_train:\n",
    "        plt.scatter(X_train[:, 0], X_train[:, 1], s=plot_symbol_size,\n",
    "                    c=colors_for_points[y_train.astype(int)], edgecolor = 'black',alpha=0.6)\n",
    "    if show_test:\n",
    "        plt.scatter(X_test[:, 0], X_test[:, 1], marker='^', s=plot_symbol_size,\n",
    "                c=colors_for_points[y_test.astype(int)],edgecolor = 'black',alpha=0.6)\n",
    "    if  is_extended:\n",
    "        if labels is None:\n",
    "            labels= ['negative','positive']\n",
    "        import matplotlib.patches as mpatches\n",
    "        patches= [mpatches.Patch(color=colors_for_points[i], label=labels[i]) for i in range (len(labels))]\n",
    "        plt.legend(handles=patches)\n",
    "        if features is None:\n",
    "            plt.xlabel('feature 1')\n",
    "            plt.ylabel('feature 2')\n",
    "        else: \n",
    "            plt.xlabel(features[0])\n",
    "            plt.ylabel(features[1])\n",
    "\n",
    "    else:\n",
    "        plt.tick_params(\n",
    "        top =False,\n",
    "        bottom= False,\n",
    "        left  = False,\n",
    "        labelleft = False,\n",
    "        labelbottom = False\n",
    "        )\n",
    "    plt.title(title)"
   ]
  },
  {
   "cell_type": "markdown",
   "id": "477fd8a2",
   "metadata": {},
   "source": [
    "# Synthetic dataset"
   ]
  },
  {
   "cell_type": "code",
   "execution_count": 28,
   "id": "9094c60f",
   "metadata": {},
   "outputs": [],
   "source": [
    "from sklearn.metrics import accuracy_score, precision_score, recall_score, f1_score"
   ]
  },
  {
   "cell_type": "code",
   "execution_count": 29,
   "id": "e5a4c16d",
   "metadata": {},
   "outputs": [],
   "source": [
    "from sklearn.datasets import make_blobs\n",
    "X_mk8, y_mk8 = make_blobs(n_samples = 300, n_features = 3, centers = 6, \n",
    "                       cluster_std = 8, random_state = 10)\n",
    "X = X_mk8\n",
    "y = y_mk8 == 5\n",
    "plt.figure()\n",
    "plot_data_logistic_regression(X,y, title='make_blobs imbalanced')"
   ]
  },
  {
   "cell_type": "markdown",
   "id": "b49c00fa",
   "metadata": {},
   "source": [
    "# Logistic Regression"
   ]
  },
  {
   "cell_type": "code",
   "execution_count": 36,
   "id": "8464d5e6",
   "metadata": {},
   "outputs": [
    {
     "name": "stdout",
     "output_type": "stream",
     "text": [
      "train accuracy= 83.111%\n",
      "test accuracy= 82.667%\n"
     ]
    }
   ],
   "source": [
    "X_train, X_test, y_train, y_test = train_test_split(X, y, random_state = 0)\n",
    "\n",
    "clf = LogisticRegression().fit(X_train, y_train)\n",
    "plt.show()\n",
    "\n",
    "print(\"train accuracy= {:.3%}\".format(clf.score (X_train,y_train)))\n",
    "print(\"test accuracy= {:.3%}\".format(clf.score (X_test,y_test)))"
   ]
  },
  {
   "cell_type": "markdown",
   "id": "334bc04d",
   "metadata": {},
   "source": [
    "# Perfromance on test set"
   ]
  },
  {
   "cell_type": "code",
   "execution_count": 37,
   "id": "bbe6ea4e",
   "metadata": {},
   "outputs": [
    {
     "name": "stdout",
     "output_type": "stream",
     "text": [
      "confusion_matrix:\n",
      " [[62  0]\n",
      " [13  0]]\n",
      "recall_score = 0.0\n",
      "precision_score = 0.0\n"
     ]
    },
    {
     "name": "stderr",
     "output_type": "stream",
     "text": [
      "c:\\Users\\denis\\miniconda3\\envs\\venv\\Lib\\site-packages\\sklearn\\metrics\\_classification.py:1565: UndefinedMetricWarning: Precision is ill-defined and being set to 0.0 due to no predicted samples. Use `zero_division` parameter to control this behavior.\n",
      "  _warn_prf(average, modifier, f\"{metric.capitalize()} is\", len(result))\n"
     ]
    }
   ],
   "source": [
    "y_predicted = clf.predict(X_test)\n",
    "print ('confusion_matrix:\\n',confusion_matrix(y_test, y_predicted))\n",
    "print ('recall_score = {:.2}\\nprecision_score = {:.2}'.format(\n",
    "    recall_score(y_test, y_predicted),precision_score(y_test, y_predicted)))"
   ]
  },
  {
   "cell_type": "markdown",
   "id": "96def617",
   "metadata": {},
   "source": [
    "# Probabilty of prediction"
   ]
  },
  {
   "cell_type": "code",
   "execution_count": 38,
   "id": "af23c2cc",
   "metadata": {},
   "outputs": [
    {
     "data": {
      "text/html": [
       "<div>\n",
       "<style scoped>\n",
       "    .dataframe tbody tr th:only-of-type {\n",
       "        vertical-align: middle;\n",
       "    }\n",
       "\n",
       "    .dataframe tbody tr th {\n",
       "        vertical-align: top;\n",
       "    }\n",
       "\n",
       "    .dataframe thead th {\n",
       "        text-align: right;\n",
       "    }\n",
       "</style>\n",
       "<table border=\"1\" class=\"dataframe\">\n",
       "  <thead>\n",
       "    <tr style=\"text-align: right;\">\n",
       "      <th></th>\n",
       "      <th>true_value</th>\n",
       "      <th>predicted</th>\n",
       "      <th>probability of 0</th>\n",
       "      <th>probability of 1</th>\n",
       "    </tr>\n",
       "  </thead>\n",
       "  <tbody>\n",
       "    <tr>\n",
       "      <th>67</th>\n",
       "      <td>False</td>\n",
       "      <td>False</td>\n",
       "      <td>0.772794</td>\n",
       "      <td>0.227206</td>\n",
       "    </tr>\n",
       "    <tr>\n",
       "      <th>26</th>\n",
       "      <td>False</td>\n",
       "      <td>False</td>\n",
       "      <td>0.961604</td>\n",
       "      <td>0.038396</td>\n",
       "    </tr>\n",
       "    <tr>\n",
       "      <th>21</th>\n",
       "      <td>True</td>\n",
       "      <td>False</td>\n",
       "      <td>0.842683</td>\n",
       "      <td>0.157317</td>\n",
       "    </tr>\n",
       "    <tr>\n",
       "      <th>3</th>\n",
       "      <td>False</td>\n",
       "      <td>False</td>\n",
       "      <td>0.673281</td>\n",
       "      <td>0.326719</td>\n",
       "    </tr>\n",
       "    <tr>\n",
       "      <th>44</th>\n",
       "      <td>False</td>\n",
       "      <td>False</td>\n",
       "      <td>0.825064</td>\n",
       "      <td>0.174936</td>\n",
       "    </tr>\n",
       "    <tr>\n",
       "      <th>41</th>\n",
       "      <td>True</td>\n",
       "      <td>False</td>\n",
       "      <td>0.787292</td>\n",
       "      <td>0.212708</td>\n",
       "    </tr>\n",
       "    <tr>\n",
       "      <th>6</th>\n",
       "      <td>False</td>\n",
       "      <td>False</td>\n",
       "      <td>0.928295</td>\n",
       "      <td>0.071705</td>\n",
       "    </tr>\n",
       "    <tr>\n",
       "      <th>20</th>\n",
       "      <td>False</td>\n",
       "      <td>False</td>\n",
       "      <td>0.940702</td>\n",
       "      <td>0.059298</td>\n",
       "    </tr>\n",
       "    <tr>\n",
       "      <th>2</th>\n",
       "      <td>False</td>\n",
       "      <td>False</td>\n",
       "      <td>0.804233</td>\n",
       "      <td>0.195767</td>\n",
       "    </tr>\n",
       "    <tr>\n",
       "      <th>59</th>\n",
       "      <td>False</td>\n",
       "      <td>False</td>\n",
       "      <td>0.875966</td>\n",
       "      <td>0.124034</td>\n",
       "    </tr>\n",
       "  </tbody>\n",
       "</table>\n",
       "</div>"
      ],
      "text/plain": [
       "    true_value  predicted  probability of 0  probability of 1\n",
       "67       False      False          0.772794          0.227206\n",
       "26       False      False          0.961604          0.038396\n",
       "21        True      False          0.842683          0.157317\n",
       "3        False      False          0.673281          0.326719\n",
       "44       False      False          0.825064          0.174936\n",
       "41        True      False          0.787292          0.212708\n",
       "6        False      False          0.928295          0.071705\n",
       "20       False      False          0.940702          0.059298\n",
       "2        False      False          0.804233          0.195767\n",
       "59       False      False          0.875966          0.124034"
      ]
     },
     "execution_count": 38,
     "metadata": {},
     "output_type": "execute_result"
    }
   ],
   "source": [
    "clf = LogisticRegression().fit(X_train, y_train)\n",
    "y_proba = clf.predict_proba(X_test)\n",
    "y_pedicted = clf.predict(X_test)\n",
    "df_proba = pd.DataFrame({'true_value':  y_test, 'predicted': y_predicted,'probability of 0': y_proba[:,0],'probability of 1': y_proba[:,1]})\n",
    "df_proba.sample(10, random_state=10)"
   ]
  },
  {
   "cell_type": "markdown",
   "id": "cc5e053c",
   "metadata": {},
   "source": [
    "# Changing threshold of prediction"
   ]
  },
  {
   "cell_type": "code",
   "execution_count": 39,
   "id": "65d6d203",
   "metadata": {},
   "outputs": [
    {
     "data": {
      "text/plain": [
       "array([[0.89427535, 0.10572465],\n",
       "       [0.94401374, 0.05598626],\n",
       "       [0.93861599, 0.06138401],\n",
       "       [0.95660296, 0.04339704],\n",
       "       [0.94501898, 0.05498102],\n",
       "       [0.91034114, 0.08965886],\n",
       "       [0.79196436, 0.20803564],\n",
       "       [0.84761425, 0.15238575],\n",
       "       [0.78279913, 0.21720087],\n",
       "       [0.77860465, 0.22139535]])"
      ]
     },
     "execution_count": 39,
     "metadata": {},
     "output_type": "execute_result"
    }
   ],
   "source": [
    "clf.predict_proba(X[:10])"
   ]
  },
  {
   "cell_type": "markdown",
   "id": "a4b400f3",
   "metadata": {},
   "source": [
    "# Decision function"
   ]
  },
  {
   "cell_type": "code",
   "execution_count": 40,
   "id": "4f3181fe",
   "metadata": {},
   "outputs": [
    {
     "data": {
      "text/html": [
       "<div>\n",
       "<style scoped>\n",
       "    .dataframe tbody tr th:only-of-type {\n",
       "        vertical-align: middle;\n",
       "    }\n",
       "\n",
       "    .dataframe tbody tr th {\n",
       "        vertical-align: top;\n",
       "    }\n",
       "\n",
       "    .dataframe thead th {\n",
       "        text-align: right;\n",
       "    }\n",
       "</style>\n",
       "<table border=\"1\" class=\"dataframe\">\n",
       "  <thead>\n",
       "    <tr style=\"text-align: right;\">\n",
       "      <th></th>\n",
       "      <th>true_value</th>\n",
       "      <th>predicted</th>\n",
       "      <th>score</th>\n",
       "    </tr>\n",
       "  </thead>\n",
       "  <tbody>\n",
       "    <tr>\n",
       "      <th>67</th>\n",
       "      <td>False</td>\n",
       "      <td>False</td>\n",
       "      <td>-1.224156</td>\n",
       "    </tr>\n",
       "    <tr>\n",
       "      <th>26</th>\n",
       "      <td>False</td>\n",
       "      <td>False</td>\n",
       "      <td>-3.220660</td>\n",
       "    </tr>\n",
       "    <tr>\n",
       "      <th>21</th>\n",
       "      <td>True</td>\n",
       "      <td>False</td>\n",
       "      <td>-1.678326</td>\n",
       "    </tr>\n",
       "    <tr>\n",
       "      <th>3</th>\n",
       "      <td>False</td>\n",
       "      <td>False</td>\n",
       "      <td>-0.723060</td>\n",
       "    </tr>\n",
       "    <tr>\n",
       "      <th>44</th>\n",
       "      <td>False</td>\n",
       "      <td>False</td>\n",
       "      <td>-1.551044</td>\n",
       "    </tr>\n",
       "    <tr>\n",
       "      <th>41</th>\n",
       "      <td>True</td>\n",
       "      <td>False</td>\n",
       "      <td>-1.308680</td>\n",
       "    </tr>\n",
       "    <tr>\n",
       "      <th>6</th>\n",
       "      <td>False</td>\n",
       "      <td>False</td>\n",
       "      <td>-2.560785</td>\n",
       "    </tr>\n",
       "    <tr>\n",
       "      <th>20</th>\n",
       "      <td>False</td>\n",
       "      <td>False</td>\n",
       "      <td>-2.764043</td>\n",
       "    </tr>\n",
       "    <tr>\n",
       "      <th>2</th>\n",
       "      <td>False</td>\n",
       "      <td>False</td>\n",
       "      <td>-1.412962</td>\n",
       "    </tr>\n",
       "    <tr>\n",
       "      <th>59</th>\n",
       "      <td>False</td>\n",
       "      <td>False</td>\n",
       "      <td>-1.954776</td>\n",
       "    </tr>\n",
       "  </tbody>\n",
       "</table>\n",
       "</div>"
      ],
      "text/plain": [
       "    true_value  predicted     score\n",
       "67       False      False -1.224156\n",
       "26       False      False -3.220660\n",
       "21        True      False -1.678326\n",
       "3        False      False -0.723060\n",
       "44       False      False -1.551044\n",
       "41        True      False -1.308680\n",
       "6        False      False -2.560785\n",
       "20       False      False -2.764043\n",
       "2        False      False -1.412962\n",
       "59       False      False -1.954776"
      ]
     },
     "execution_count": 40,
     "metadata": {},
     "output_type": "execute_result"
    }
   ],
   "source": [
    "clf = LogisticRegression().fit(X_train, y_train)\n",
    "y_score = clf.decision_function(X_test)\n",
    "y_pedicted = clf.predict(X_test)\n",
    "\n",
    "df_dec_func = pd.DataFrame({'true_value':  y_test, 'predicted': y_predicted,'score': y_score})\n",
    "df_dec_func.sample(10, random_state=10)"
   ]
  },
  {
   "cell_type": "markdown",
   "id": "534203a1",
   "metadata": {},
   "source": [
    "# Accuracy, Recall, Precision, F1-score"
   ]
  },
  {
   "cell_type": "code",
   "execution_count": 41,
   "id": "1b5fdd17",
   "metadata": {},
   "outputs": [
    {
     "name": "stdout",
     "output_type": "stream",
     "text": [
      "accuracy = 0.83\n",
      "precision = 0.0\n",
      "recall = 0.0\n",
      "f1_score  = 0.0\n"
     ]
    },
    {
     "name": "stderr",
     "output_type": "stream",
     "text": [
      "c:\\Users\\denis\\miniconda3\\envs\\venv\\Lib\\site-packages\\sklearn\\metrics\\_classification.py:1565: UndefinedMetricWarning: Precision is ill-defined and being set to 0.0 due to no predicted samples. Use `zero_division` parameter to control this behavior.\n",
      "  _warn_prf(average, modifier, f\"{metric.capitalize()} is\", len(result))\n"
     ]
    }
   ],
   "source": [
    "y_predicted = clf.predict(X_test)\n",
    "print ('accuracy = {:.2}'.format(accuracy_score(y_test, y_predicted)))\n",
    "print ('precision = {:.2}'.format(precision_score(y_test, y_predicted)))\n",
    "print ('recall = {:.2}'.format(recall_score(y_test, y_predicted)))\n",
    "print ('f1_score  = {:.2}'.format(f1_score(y_test, y_predicted)))"
   ]
  },
  {
   "cell_type": "markdown",
   "id": "3f901545",
   "metadata": {},
   "source": [
    "# Classification report"
   ]
  },
  {
   "cell_type": "code",
   "execution_count": 42,
   "id": "1b803021",
   "metadata": {},
   "outputs": [
    {
     "name": "stdout",
     "output_type": "stream",
     "text": [
      "              precision    recall  f1-score   support\n",
      "\n",
      "    Negative       0.83      1.00      0.91        62\n",
      "    Positive       0.00      0.00      0.00        13\n",
      "\n",
      "    accuracy                           0.83        75\n",
      "   macro avg       0.41      0.50      0.45        75\n",
      "weighted avg       0.68      0.83      0.75        75\n",
      "\n"
     ]
    },
    {
     "name": "stderr",
     "output_type": "stream",
     "text": [
      "c:\\Users\\denis\\miniconda3\\envs\\venv\\Lib\\site-packages\\sklearn\\metrics\\_classification.py:1565: UndefinedMetricWarning: Precision is ill-defined and being set to 0.0 in labels with no predicted samples. Use `zero_division` parameter to control this behavior.\n",
      "  _warn_prf(average, modifier, f\"{metric.capitalize()} is\", len(result))\n",
      "c:\\Users\\denis\\miniconda3\\envs\\venv\\Lib\\site-packages\\sklearn\\metrics\\_classification.py:1565: UndefinedMetricWarning: Precision is ill-defined and being set to 0.0 in labels with no predicted samples. Use `zero_division` parameter to control this behavior.\n",
      "  _warn_prf(average, modifier, f\"{metric.capitalize()} is\", len(result))\n",
      "c:\\Users\\denis\\miniconda3\\envs\\venv\\Lib\\site-packages\\sklearn\\metrics\\_classification.py:1565: UndefinedMetricWarning: Precision is ill-defined and being set to 0.0 in labels with no predicted samples. Use `zero_division` parameter to control this behavior.\n",
      "  _warn_prf(average, modifier, f\"{metric.capitalize()} is\", len(result))\n"
     ]
    }
   ],
   "source": [
    "from sklearn.metrics import classification_report\n",
    "\n",
    "print (classification_report(y_test, y_predicted, target_names=['Negative', 'Positive']))"
   ]
  },
  {
   "cell_type": "markdown",
   "id": "297d2bf9",
   "metadata": {},
   "source": [
    "# Classification report for dummy stratified classifier"
   ]
  },
  {
   "cell_type": "code",
   "execution_count": 43,
   "id": "a7e26fdc",
   "metadata": {},
   "outputs": [
    {
     "name": "stdout",
     "output_type": "stream",
     "text": [
      "[[62  0]\n",
      " [13  0]]\n",
      "              precision    recall  f1-score   support\n",
      "\n",
      "    Negative       0.83      1.00      0.91        62\n",
      "    Positive       0.00      0.00      0.00        13\n",
      "\n",
      "    accuracy                           0.83        75\n",
      "   macro avg       0.41      0.50      0.45        75\n",
      "weighted avg       0.68      0.83      0.75        75\n",
      "\n"
     ]
    },
    {
     "name": "stderr",
     "output_type": "stream",
     "text": [
      "c:\\Users\\denis\\miniconda3\\envs\\venv\\Lib\\site-packages\\sklearn\\metrics\\_classification.py:1565: UndefinedMetricWarning: Precision is ill-defined and being set to 0.0 in labels with no predicted samples. Use `zero_division` parameter to control this behavior.\n",
      "  _warn_prf(average, modifier, f\"{metric.capitalize()} is\", len(result))\n",
      "c:\\Users\\denis\\miniconda3\\envs\\venv\\Lib\\site-packages\\sklearn\\metrics\\_classification.py:1565: UndefinedMetricWarning: Precision is ill-defined and being set to 0.0 in labels with no predicted samples. Use `zero_division` parameter to control this behavior.\n",
      "  _warn_prf(average, modifier, f\"{metric.capitalize()} is\", len(result))\n",
      "c:\\Users\\denis\\miniconda3\\envs\\venv\\Lib\\site-packages\\sklearn\\metrics\\_classification.py:1565: UndefinedMetricWarning: Precision is ill-defined and being set to 0.0 in labels with no predicted samples. Use `zero_division` parameter to control this behavior.\n",
      "  _warn_prf(average, modifier, f\"{metric.capitalize()} is\", len(result))\n"
     ]
    }
   ],
   "source": [
    "clf = DummyClassifier (random_state=0).fit(X_train,y_train)\n",
    "y_predicted = clf.predict(X_test)\n",
    "print (confusion_matrix(y_test, y_predicted))\n",
    "print (classification_report(y_test, y_predicted, target_names=['Negative', 'Positive']))"
   ]
  },
  {
   "cell_type": "code",
   "execution_count": 46,
   "id": "be519fe0",
   "metadata": {},
   "outputs": [
    {
     "data": {
      "text/html": [
       "<div>\n",
       "<style scoped>\n",
       "    .dataframe tbody tr th:only-of-type {\n",
       "        vertical-align: middle;\n",
       "    }\n",
       "\n",
       "    .dataframe tbody tr th {\n",
       "        vertical-align: top;\n",
       "    }\n",
       "\n",
       "    .dataframe thead th {\n",
       "        text-align: right;\n",
       "    }\n",
       "</style>\n",
       "<table border=\"1\" class=\"dataframe\">\n",
       "  <thead>\n",
       "    <tr style=\"text-align: right;\">\n",
       "      <th></th>\n",
       "      <th>recall</th>\n",
       "      <th>precision</th>\n",
       "    </tr>\n",
       "    <tr>\n",
       "      <th>threshold</th>\n",
       "      <th></th>\n",
       "      <th></th>\n",
       "    </tr>\n",
       "  </thead>\n",
       "  <tbody>\n",
       "    <tr>\n",
       "      <th>0.001608</th>\n",
       "      <td>1.0</td>\n",
       "      <td>0.164444</td>\n",
       "    </tr>\n",
       "  </tbody>\n",
       "</table>\n",
       "</div>"
      ],
      "text/plain": [
       "           recall  precision\n",
       "threshold                   \n",
       "0.001608      1.0   0.164444"
      ]
     },
     "execution_count": 46,
     "metadata": {},
     "output_type": "execute_result"
    }
   ],
   "source": [
    "clf = LogisticRegression().fit(X_train, y_train)\n",
    "y_score = clf.decision_function(X_train)\n",
    "thresholds = np.linspace(y_score.min()/4, y_score.max()/3.7, 20)\n",
    "\n",
    "recall = []\n",
    "precision= []\n",
    "plt.figure()\n",
    "plt.xlim([0.0, 1.01])\n",
    "plt.ylim([0.0, 1.01])\n",
    "for threshold in  thresholds:\n",
    "    clf.predict = lambda X: clf.predict_proba(X)[:,1]>threshold\n",
    "    recall.append(recall_score(y_train,clf.predict(X_train)))\n",
    "    precision.append(precision_score(y_train,clf.predict(X_train)))\n",
    "df = pd.DataFrame({'threshold':  thresholds, 'recall': recall,'precision': precision})\n",
    "\n",
    "\n",
    "plt.plot(precision, recall, '-o', markersize = 4, label='Precision-Recall Curve')\n",
    "plt.xlabel('Precision', fontsize=12)\n",
    "plt.ylabel('Recall', fontsize=12)\n",
    "plt.gca().set_aspect('equal')\n",
    "df.groupby(['recall','precision']).last().reset_index().sort_values('threshold').set_index('threshold')"
   ]
  },
  {
   "cell_type": "code",
   "execution_count": 50,
   "id": "9e5c8926",
   "metadata": {},
   "outputs": [
    {
     "name": "stdout",
     "output_type": "stream",
     "text": [
      "closest_zero threshold : 0.005948214062771795\n"
     ]
    },
    {
     "data": {
      "image/png": "[encoded data removed]",
      "text/plain": [
       "<Figure size 640x480 with 1 Axes>"
      ]
     },
     "metadata": {},
     "output_type": "display_data"
    }
   ],
   "source": [
    "from sklearn.metrics import precision_recall_curve\n",
    "\n",
    "y_score = clf.decision_function(X_train)\n",
    "precision, recall, thresholds = precision_recall_curve(y_train, y_score)\n",
    "\n",
    "# print ('precision\\n', precision)\n",
    "# print ('recall:\\n', recall)\n",
    "# print ('thresholds:\\n', thresholds)\n",
    "closest_zero = np.argmin(np.abs(thresholds))\n",
    "print ('closest_zero threshold : {}'.format(thresholds [closest_zero]))\n",
    "closest_zero_p = precision[closest_zero]\n",
    "closest_zero_r = recall[closest_zero]\n",
    "\n",
    "plt.figure()\n",
    "plt.xlim([0.0, 1.01])\n",
    "plt.ylim([0.0, 1.01])\n",
    "plt.plot(precision, recall, '-', markersize = 4, label='Precision-Recall Curve')\n",
    "plt.plot(closest_zero_p, closest_zero_r, 'o', markersize = 12, fillstyle = 'none', c='r', mew=2)\n",
    "plt.xlabel('Precision', fontsize=12)\n",
    "plt.ylabel('Recall', fontsize=12)\n",
    "plt.show(4)"
   ]
  },
  {
   "cell_type": "markdown",
   "id": "04ab632b",
   "metadata": {},
   "source": [
    "# Receiver operating characteristic (ROC) curve"
   ]
  },
  {
   "cell_type": "code",
   "execution_count": 51,
   "id": "166b7c93",
   "metadata": {},
   "outputs": [],
   "source": [
    "from sklearn.metrics import roc_curve, auc"
   ]
  },
  {
   "cell_type": "code",
   "execution_count": 52,
   "id": "a41a2f97",
   "metadata": {},
   "outputs": [
    {
     "data": {
      "image/png": "[encoded data removed]",
      "text/plain": [
       "<Figure size 640x480 with 1 Axes>"
      ]
     },
     "metadata": {},
     "output_type": "display_data"
    }
   ],
   "source": [
    "y_score = clf.decision_function(X_test)\n",
    "fpr, tpr, _ = roc_curve(y_test, y_score)\n",
    "plt.figure()\n",
    "plt.plot(fpr, tpr, '-', markersize = 4, label='Precision-Recall Curve')\n",
    "plt.xlabel('False Positive Rate', fontsize=12)\n",
    "plt.ylabel('True Positive Rate', fontsize=12)\n",
    "plt.title ('ROC curve')\n",
    "plt.show(1)"
   ]
  },
  {
   "cell_type": "markdown",
   "id": "aabffd76",
   "metadata": {},
   "source": [
    "# AUC score"
   ]
  },
  {
   "cell_type": "code",
   "execution_count": 53,
   "id": "2d4dd9a1",
   "metadata": {},
   "outputs": [
    {
     "name": "stdout",
     "output_type": "stream",
     "text": [
      "roc_auc = 0.8908\n"
     ]
    }
   ],
   "source": [
    "plt.fill_between(fpr,0,tpr, facecolors='orange',alpha=0.25)\n",
    "roc_auc = auc(fpr, tpr)\n",
    "print ('roc_auc = {:.4}'.format(roc_auc))"
   ]
  },
  {
   "cell_type": "markdown",
   "id": "5afa2241",
   "metadata": {},
   "source": [
    "# Direct roc_auc_score function"
   ]
  },
  {
   "cell_type": "code",
   "execution_count": 54,
   "id": "a69ff8ac",
   "metadata": {},
   "outputs": [
    {
     "name": "stdout",
     "output_type": "stream",
     "text": [
      "AUC:  0.8908188585607941\n"
     ]
    },
    {
     "data": {
      "text/plain": [
       "array([-1.95262447, -2.74544509, -1.41296227, -0.72306016, -1.32147726,\n",
       "       -2.57348547, -2.56078481, -1.53579502, -1.00306328, -2.76055662,\n",
       "       -1.17351444, -2.09927294, -1.31482635, -2.64013512, -2.23384936,\n",
       "       -1.44271471, -2.21961928, -0.95743824, -1.70378107, -1.85974694,\n",
       "       -2.76404282, -1.6783256 , -3.63054656, -2.31918017, -1.83807654,\n",
       "       -1.19248417, -3.22066   , -3.47054213, -1.56089956, -1.44560082,\n",
       "       -2.21868817, -2.44847905, -1.28205354, -2.95617567, -1.3412818 ,\n",
       "       -2.10834841, -1.87365177, -2.63206941, -2.56555494, -2.31780735,\n",
       "       -0.38673932, -1.30867953, -1.36692614, -1.516958  , -1.55104354,\n",
       "       -1.32297681, -2.36807108, -2.34379159, -1.71601053, -1.6312128 ,\n",
       "       -3.61758146, -2.03541213, -0.22521229, -2.76337858, -1.8750042 ,\n",
       "       -1.15336988, -1.5146299 , -2.3293268 , -1.81484807, -1.95477582,\n",
       "       -3.43745842, -1.94670237, -2.86564734, -2.49466655, -3.09253823,\n",
       "       -2.54890947, -0.45048812, -1.22415593, -1.54722959, -1.63511742,\n",
       "       -2.08735554, -2.39770819, -2.64179431, -2.42653459, -1.11803478])"
      ]
     },
     "execution_count": 54,
     "metadata": {},
     "output_type": "execute_result"
    }
   ],
   "source": [
    "from sklearn.metrics import roc_auc_score\n",
    "y_score= clf.decision_function(X_test)\n",
    "print('AUC: ', roc_auc_score(y_test, y_score)) \n",
    "y_score"
   ]
  },
  {
   "cell_type": "markdown",
   "id": "df58bc7c",
   "metadata": {},
   "source": [
    "# Multi-class confusion matrix"
   ]
  },
  {
   "cell_type": "code",
   "execution_count": 56,
   "id": "ff49b54a",
   "metadata": {},
   "outputs": [
    {
     "data": {
      "image/png": "[encoded data removed]",
      "text/plain": [
       "<Figure size 600x400 with 2 Axes>"
      ]
     },
     "metadata": {},
     "output_type": "display_data"
    }
   ],
   "source": [
    "import seaborn as sns\n",
    "\n",
    "iris = load_iris()\n",
    "X, y, labels = iris.data, iris.target, iris.target_names\n",
    "X_train, X_test, y_train, y_test = train_test_split(X, y, random_state = 0)\n",
    "\n",
    "clf = SVC(kernel = 'linear').fit(X_train, y_train)\n",
    "y_predicted = clf.predict(X_test)\n",
    "confusion = confusion_matrix(y_test, y_predicted)\n",
    "df = pd.DataFrame(confusion,index = np.arange(3), columns = np.arange(3))\n",
    "\n",
    "plt.figure(figsize=(6,4))\n",
    "sns.heatmap(df, annot=True, cmap='Reds')\n",
    "plt.title('SVM Linear Kernel \\nAccuracy:{0:.3f}'.format(accuracy_score(y_test,y_predicted)))\n",
    "plt.ylabel('True label')\n",
    "plt.xlabel('Predicted label')\n",
    "plt.show(2)"
   ]
  },
  {
   "cell_type": "markdown",
   "id": "45e69688",
   "metadata": {},
   "source": [
    "# RBF kernel"
   ]
  },
  {
   "cell_type": "code",
   "execution_count": 57,
   "id": "8f16b147",
   "metadata": {},
   "outputs": [
    {
     "data": {
      "image/png": "[encoded data removed]",
      "text/plain": [
       "<Figure size 600x400 with 2 Axes>"
      ]
     },
     "metadata": {},
     "output_type": "display_data"
    }
   ],
   "source": [
    "clf = SVC().fit(X_train, y_train)\n",
    "y_predicted = clf.predict(X_test)\n",
    "confusion = confusion_matrix(y_test, y_predicted)\n",
    "df = pd.DataFrame(confusion,index = np.arange(3), columns = np.arange(3))\n",
    "\n",
    "plt.figure(figsize=(6,4))\n",
    "sns.heatmap(df, annot=True, cmap='Reds')\n",
    "plt.title('SVM Linear Kernel \\nAccuracy:{0:.3f}'.format(accuracy_score(y_test,y_predicted)))\n",
    "plt.ylabel('True label')\n",
    "plt.xlabel('Predicted label')\n",
    "plt.show(1)"
   ]
  },
  {
   "cell_type": "markdown",
   "id": "23d5e636",
   "metadata": {},
   "source": [
    "# Classification report"
   ]
  },
  {
   "cell_type": "code",
   "execution_count": 58,
   "id": "c8b566d9",
   "metadata": {},
   "outputs": [
    {
     "name": "stdout",
     "output_type": "stream",
     "text": [
      "              precision    recall  f1-score   support\n",
      "\n",
      "           0       1.00      1.00      1.00        13\n",
      "           1       1.00      0.94      0.97        16\n",
      "           2       0.90      1.00      0.95         9\n",
      "\n",
      "    accuracy                           0.97        38\n",
      "   macro avg       0.97      0.98      0.97        38\n",
      "weighted avg       0.98      0.97      0.97        38\n",
      "\n"
     ]
    }
   ],
   "source": [
    "print(classification_report(y_test, y_predicted))"
   ]
  },
  {
   "cell_type": "markdown",
   "id": "15d4ebbe",
   "metadata": {},
   "source": [
    "# Average metrics"
   ]
  },
  {
   "cell_type": "markdown",
   "id": "93facac2",
   "metadata": {},
   "source": [
    "# Average precision"
   ]
  },
  {
   "cell_type": "code",
   "execution_count": 59,
   "id": "a94da218",
   "metadata": {},
   "outputs": [
    {
     "name": "stdout",
     "output_type": "stream",
     "text": [
      "Micro-averaged precision = 0.97 (treat instances equally)\n",
      "Macro-averaged precision = 0.97 (treat classes equally)\n"
     ]
    }
   ],
   "source": [
    "print('Micro-averaged precision = {:.2f} (treat instances equally)'\n",
    "      .format(precision_score(y_test, y_predicted, average = 'micro')))\n",
    "print('Macro-averaged precision = {:.2f} (treat classes equally)'\n",
    "      .format(precision_score(y_test, y_predicted, average = 'macro')))"
   ]
  },
  {
   "cell_type": "markdown",
   "id": "92e51ae8",
   "metadata": {},
   "source": [
    "# Average F1- score"
   ]
  },
  {
   "cell_type": "code",
   "execution_count": 60,
   "id": "cebf16aa",
   "metadata": {},
   "outputs": [
    {
     "name": "stdout",
     "output_type": "stream",
     "text": [
      "Micro-averaged f1 = 0.97 (treat instances equally)\n",
      "Macro-averaged f1 = 0.97 (treat classes equally)\n"
     ]
    }
   ],
   "source": [
    "print('Micro-averaged f1 = {:.2f} (treat instances equally)'\n",
    "      .format(f1_score(y_test, y_predicted, average = 'micro')))\n",
    "print('Macro-averaged f1 = {:.2f} (treat classes equally)'\n",
    "      .format(f1_score(y_test, y_predicted, average = 'macro')))"
   ]
  },
  {
   "cell_type": "markdown",
   "id": "87f0dbdf",
   "metadata": {},
   "source": [
    "# Cross validation score"
   ]
  },
  {
   "cell_type": "code",
   "execution_count": 61,
   "id": "20104dd4",
   "metadata": {},
   "outputs": [
    {
     "name": "stdout",
     "output_type": "stream",
     "text": [
      "Cross-validation (accuracy) [0.73333333 0.83333333 0.56666667 0.53333333 0.66666667]\n",
      "Cross-validation (AUC) [0.78  0.89  0.69  0.63  0.785]\n",
      "Cross-validation (recall) [0.2 0.5 0.3 0.6 0.4]\n"
     ]
    },
    {
     "data": {
      "text/plain": [
       "np.float64(0.68)"
      ]
     },
     "execution_count": 61,
     "metadata": {},
     "output_type": "execute_result"
    }
   ],
   "source": [
    "from sklearn.model_selection import cross_val_score\n",
    "\n",
    "iris = load_iris()\n",
    "X, y, labels = iris.data, iris.target, iris.target_names\n",
    "y = y == 1\n",
    "clf = SVC(kernel='linear', C=1)\n",
    "\n",
    "print('Cross-validation (accuracy)', cross_val_score(clf, X, y, cv=5, scoring = 'accuracy'))\n",
    "print('Cross-validation (AUC)', cross_val_score(clf, X, y, cv=5, scoring = 'roc_auc'))\n",
    "print('Cross-validation (recall)', cross_val_score(clf, X, y, cv=5, scoring = 'recall'))\n",
    "\n",
    "np.average(cross_val_score(clf, X, y, cv=10))"
   ]
  },
  {
   "cell_type": "code",
   "execution_count": 62,
   "id": "112a450c",
   "metadata": {},
   "outputs": [
    {
     "name": "stdout",
     "output_type": "stream",
     "text": [
      "['accuracy', 'adjusted_mutual_info_score', 'adjusted_rand_score', 'average_precision', 'balanced_accuracy', 'completeness_score', 'd2_absolute_error_score', 'explained_variance', 'f1', 'f1_macro', 'f1_micro', 'f1_samples', 'f1_weighted', 'fowlkes_mallows_score', 'homogeneity_score', 'jaccard', 'jaccard_macro', 'jaccard_micro', 'jaccard_samples', 'jaccard_weighted', 'matthews_corrcoef', 'mutual_info_score', 'neg_brier_score', 'neg_log_loss', 'neg_max_error', 'neg_mean_absolute_error', 'neg_mean_absolute_percentage_error', 'neg_mean_gamma_deviance', 'neg_mean_poisson_deviance', 'neg_mean_squared_error', 'neg_mean_squared_log_error', 'neg_median_absolute_error', 'neg_negative_likelihood_ratio', 'neg_root_mean_squared_error', 'neg_root_mean_squared_log_error', 'normalized_mutual_info_score', 'positive_likelihood_ratio', 'precision', 'precision_macro', 'precision_micro', 'precision_samples', 'precision_weighted', 'r2', 'rand_score', 'recall', 'recall_macro', 'recall_micro', 'recall_samples', 'recall_weighted', 'roc_auc', 'roc_auc_ovo', 'roc_auc_ovo_weighted', 'roc_auc_ovr', 'roc_auc_ovr_weighted', 'top_k_accuracy', 'v_measure_score']\n"
     ]
    }
   ],
   "source": [
    "from sklearn.metrics import get_scorer_names\n",
    "print(sorted(get_scorer_names()))"
   ]
  },
  {
   "cell_type": "markdown",
   "id": "c4d646c5",
   "metadata": {},
   "source": [
    "# Regression metrics"
   ]
  },
  {
   "cell_type": "code",
   "execution_count": 63,
   "id": "6370540c",
   "metadata": {},
   "outputs": [],
   "source": [
    "import numpy as np\n",
    "import matplotlib.pyplot as plt\n",
    "from sklearn.metrics import (r2_score, mean_absolute_error,\n",
    "                            mean_squared_error, root_mean_squared_error)\n",
    "from sklearn.linear_model import LinearRegression\n",
    "\n",
    "np.random.seed(0)\n",
    "X = np.random.rand(40, 1) * 40  \n",
    "y = 0.09 * X**2 - 2 * X + 15 + np.random.randn(40, 1) \n",
    "\n",
    "X_train = X[:30]\n",
    "y_train = y[:30]\n",
    "X_test = X[30:]\n",
    "y_test = y[30:]"
   ]
  },
  {
   "cell_type": "code",
   "execution_count": 64,
   "id": "6e8e0d60",
   "metadata": {},
   "outputs": [],
   "source": [
    "model = LinearRegression()\n",
    "model.fit(X_train, y_train)\n",
    "\n",
    "y_pred = model.predict(X_test)"
   ]
  },
  {
   "cell_type": "code",
   "execution_count": 65,
   "id": "cff059d4",
   "metadata": {},
   "outputs": [
    {
     "name": "stdout",
     "output_type": "stream",
     "text": [
      "R-Squared (R2): 0.555203457603656\n",
      "Mean Absolute Error (MAE): 10.553211674888162\n",
      "Mean Squared Error (MSE): 138.20914961351545\n",
      "Root Mean Squared Error (RMSE): 11.756238752828876\n"
     ]
    }
   ],
   "source": [
    "r2 = r2_score(y_test, y_pred)\n",
    "mae = mean_absolute_error(y_test, y_pred)\n",
    "mse = mean_squared_error(y_test, y_pred)\n",
    "rmse = root_mean_squared_error(y_test, y_pred)\n",
    "\n",
    "print(f\"R-Squared (R2): {r2}\")\n",
    "print(f\"Mean Absolute Error (MAE): {mae}\")\n",
    "print(f\"Mean Squared Error (MSE): {mse}\")\n",
    "print(f\"Root Mean Squared Error (RMSE): {rmse}\")"
   ]
  },
  {
   "cell_type": "code",
   "execution_count": 66,
   "id": "4ff4c02d",
   "metadata": {},
   "outputs": [
    {
     "data": {
      "image/png": "[encoded data removed]",
      "text/plain": [
       "<Figure size 1200x600 with 1 Axes>"
      ]
     },
     "metadata": {},
     "output_type": "display_data"
    }
   ],
   "source": [
    "residuals = y_test - y_pred\n",
    "\n",
    "plt.figure(figsize=(12, 6))\n",
    "\n",
    "plt.subplot(1, 2, 1)\n",
    "plt.scatter(X_test, y_test, color='blue', label='Actual Values')\n",
    "plt.scatter(X_test, y_pred, color='red', label='Predicted Values')\n",
    "\n",
    "for i in range(len(X_test)):\n",
    "    plt.plot([X_test[i], X_test[i]], [y_test[i], y_pred[i]], color='green', linestyle='--')\n",
    "\n",
    "plt.title('Actual vs Predicted Values')\n",
    "plt.xlabel('Feature')\n",
    "plt.ylabel('Target')\n",
    "plt.legend()\n",
    "plt.tight_layout()\n",
    "plt.show()"
   ]
  },
  {
   "cell_type": "code",
   "execution_count": null,
   "id": "730644f2",
   "metadata": {},
   "outputs": [],
   "source": []
  }
 ],
 "metadata": {
  "kernelspec": {
   "display_name": "venv",
   "language": "python",
   "name": "python3"
  },
  "language_info": {
   "codemirror_mode": {
    "name": "ipython",
    "version": 3
   },
   "file_extension": ".py",
   "mimetype": "text/x-python",
   "name": "python",
   "nbconvert_exporter": "python",
   "pygments_lexer": "ipython3",
   "version": "3.12.9"
  }
 },
 "nbformat": 4,
 "nbformat_minor": 5
}
