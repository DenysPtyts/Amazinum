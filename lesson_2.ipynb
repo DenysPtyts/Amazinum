{
 "cells": [
  {
   "cell_type": "code",
   "execution_count": 7,
   "id": "76f52fd4-4321-46d2-9028-232dec5a3308",
   "metadata": {},
   "outputs": [
    {
     "name": "stdin",
     "output_type": "stream",
     "text": [
      "Введіть число:  20\n"
     ]
    },
    {
     "name": "stdout",
     "output_type": "stream",
     "text": [
      "True\n",
      "a = 2, b = 10\n",
      "a = 4, b = 5\n"
     ]
    }
   ],
   "source": [
    "def find_pairs_multipliers(num):\n",
    "    pairs = []\n",
    "\n",
    "    for a in range(2, 100):  # a від 2 до 99 (без 1 і 100)\n",
    "        for b in range(a + 1, 100):  # b > a, щоб уникнути повторів\n",
    "            if a * b == num:\n",
    "                pairs.append((a, b))\n",
    "\n",
    "    if len(pairs) >= 2:\n",
    "        print(\"True\")\n",
    "        for a, b in pairs:\n",
    "            print(f\"a = {a}, b = {b}\")\n",
    "    else:\n",
    "        print(\"False\")\n",
    "\n",
    "num = int(input(\"Введіть число: \"))\n",
    "find_pairs_multipliers(num)\n"
   ]
  },
  {
   "cell_type": "code",
   "execution_count": null,
   "id": "228a521c-696a-42e9-9df9-f4c565be2ed0",
   "metadata": {},
   "outputs": [],
   "source": []
  }
 ],
 "metadata": {
  "kernelspec": {
   "display_name": "Python 3 (ipykernel)",
   "language": "python",
   "name": "python3"
  },
  "language_info": {
   "codemirror_mode": {
    "name": "ipython",
    "version": 3
   },
   "file_extension": ".py",
   "mimetype": "text/x-python",
   "name": "python",
   "nbconvert_exporter": "python",
   "pygments_lexer": "ipython3",
   "version": "3.12.9"
  }
 },
 "nbformat": 4,
 "nbformat_minor": 5
}
